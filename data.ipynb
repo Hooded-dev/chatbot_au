{
 "cells": [
  {
   "cell_type": "code",
   "execution_count": null,
   "metadata": {},
   "outputs": [],
   "source": [
    "!pip install --upgrade langchain openai  -q\n",
    "!pip install sentence_transformers -q\n",
    "!pip install unstructured -q\n",
    "!pip install unstructured[local-inference] -q\n",
    "!pip install detectron2@git+https://github.com/facebookresearch/detectron2.git@v0.6#egg=detectron2 -q\n",
    "!apt-get install poppler-utils"
   ]
  },
  {
   "cell_type": "code",
   "execution_count": 7,
   "metadata": {},
   "outputs": [],
   "source": [
    "import os\n",
    "import openai\n",
    "from langchain.text_splitter import RecursiveCharacterTextSplitter\n",
    "from langchain.vectorstores import FAISS\n",
    "from langchain.llms import OpenAI\n",
    "from langchain.chains.question_answering import load_qa_chain\n",
    "from langchain.document_loaders import WebBaseLoader,OnlinePDFLoader\n",
    "import streamlit as st\n",
    "import tiktoken\n",
    "from bs4 import BeautifulSoup\n",
    "import re\n",
    "import requests\n",
    "from urllib.parse import urljoin"
   ]
  },
  {
   "cell_type": "code",
   "execution_count": 4,
   "metadata": {},
   "outputs": [],
   "source": [
    "from langchain.embeddings import HuggingFaceEmbeddings\n",
    "embeddings = HuggingFaceEmbeddings(model_name=\"intfloat/e5-large-v2\")"
   ]
  },
  {
   "cell_type": "code",
   "execution_count": 3,
   "metadata": {},
   "outputs": [],
   "source": [
    "urls = ['https://au.edu.pk/']"
   ]
  },
  {
   "cell_type": "code",
   "execution_count": 5,
   "metadata": {},
   "outputs": [
    {
     "name": "stdout",
     "output_type": "stream",
     "text": [
      "59\n"
     ]
    }
   ],
   "source": [
    "def is_admission_link(link):\n",
    "    keyword_pattern = re.compile(r'Admission|admissions|Faculties', re.IGNORECASE)\n",
    "    return bool(keyword_pattern.search(link))\n",
    "def extract_links(urls):\n",
    "    all_links = []\n",
    "    for link in urls:\n",
    "        response = requests.get(link)\n",
    "        soup = BeautifulSoup(response.text, \"html.parser\")\n",
    "        base_url = response.url  # Get the base URL from the response object\n",
    "        links = []\n",
    "        for a_tag in soup.find_all(\"a\"):\n",
    "            href = a_tag.get(\"href\")\n",
    "            if href:\n",
    "                absolute_link = urljoin(base_url, href)  # Convert relative link to absolute link\n",
    "                if is_admission_link(absolute_link):\n",
    "                    links.append(absolute_link)\n",
    "        all_links.extend(links)\n",
    "    print(len(all_links))\n",
    "    return all_links\n",
    "all_links = extract_links(urls)"
   ]
  },
  {
   "cell_type": "code",
   "execution_count": 6,
   "metadata": {},
   "outputs": [
    {
     "name": "stdout",
     "output_type": "stream",
     "text": [
      "Links Data done\n"
     ]
    }
   ],
   "source": [
    "loader = WebBaseLoader(all_links)\n",
    "scrape_data = loader.load()\n",
    "text_splitter = RecursiveCharacterTextSplitter (chunk_size=1000, chunk_overlap=200)\n",
    "texts_from_links = text_splitter.split_documents(scrape_data)\n",
    "for document in texts_from_links:\n",
    "    document.page_content = document.page_content.replace('\\n', ' ')\n",
    "print('Links Data done')"
   ]
  },
  {
   "cell_type": "code",
   "execution_count": 8,
   "metadata": {},
   "outputs": [
    {
     "name": "stderr",
     "output_type": "stream",
     "text": [
      "[nltk_data] Downloading package punkt to\n",
      "[nltk_data]     C:\\Users\\abd_b\\AppData\\Roaming\\nltk_data...\n",
      "[nltk_data]   Unzipping tokenizers\\punkt.zip.\n",
      "[nltk_data] Downloading package averaged_perceptron_tagger to\n",
      "[nltk_data]     C:\\Users\\abd_b\\AppData\\Roaming\\nltk_data...\n",
      "[nltk_data]   Unzipping taggers\\averaged_perceptron_tagger.zip.\n"
     ]
    }
   ],
   "source": [
    "loader = OnlinePDFLoader(\"https://au.edu.pk/AU_Documents/Details_of_Dept_Program_Representatives_for_Admissions%20Fall_2022.pdf\")\n",
    "data = loader.load()\n",
    "text_splitter = RecursiveCharacterTextSplitter (chunk_size=1000, chunk_overlap=200)\n",
    "texts_from_pdf_link = text_splitter.split_documents(data)"
   ]
  },
  {
   "cell_type": "code",
   "execution_count": 9,
   "metadata": {},
   "outputs": [],
   "source": [
    "text = texts_from_links+texts_from_pdf_link"
   ]
  },
  {
   "cell_type": "markdown",
   "metadata": {},
   "source": [
    "loader = WebBaseLoader(all_links)\n",
    "scrape_data = loader.load()\n",
    "text_splitter = RecursiveCharacterTextSplitter (chunk_size=1000, chunk_overlap=200)\n",
    "texts_from_links = text_splitter.split_documents(scrape_data)\n",
    "for document in texts_from_links:\n",
    "    document.page_content = document.page_content.replace('\\n', ' ')\n",
    "print('Links Data done')"
   ]
  },
  {
   "cell_type": "code",
   "execution_count": null,
   "metadata": {},
   "outputs": [],
   "source": [
    "db_links = FAISS.from_documents(text, embeddings)\n",
    "db_links.save_local('links_db')\n",
    "print('Embeddings created and saved successfully.')"
   ]
  },
  {
   "cell_type": "code",
   "execution_count": 11,
   "metadata": {},
   "outputs": [],
   "source": [
    "db_links = FAISS.from_documents(text, embeddings)"
   ]
  },
  {
   "cell_type": "code",
   "execution_count": 12,
   "metadata": {},
   "outputs": [
    {
     "name": "stdout",
     "output_type": "stream",
     "text": [
      "Embeddings created and saved successfully.\n"
     ]
    }
   ],
   "source": [
    "db_links.save_local('links_db') "
   ]
  },
  {
   "cell_type": "code",
   "execution_count": 13,
   "metadata": {},
   "outputs": [
    {
     "name": "stdout",
     "output_type": "stream",
     "text": [
      "Embeddings created and saved successfully.\n"
     ]
    }
   ],
   "source": [
    "print('Embeddings created and saved successfully.')"
   ]
  },
  {
   "cell_type": "code",
   "execution_count": null,
   "metadata": {},
   "outputs": [],
   "source": []
  }
 ],
 "metadata": {
  "kernelspec": {
   "display_name": "base",
   "language": "python",
   "name": "python3"
  },
  "language_info": {
   "codemirror_mode": {
    "name": "ipython",
    "version": 3
   },
   "file_extension": ".py",
   "mimetype": "text/x-python",
   "name": "python",
   "nbconvert_exporter": "python",
   "pygments_lexer": "ipython3",
   "version": "3.9.13"
  },
  "orig_nbformat": 4
 },
 "nbformat": 4,
 "nbformat_minor": 2
}
